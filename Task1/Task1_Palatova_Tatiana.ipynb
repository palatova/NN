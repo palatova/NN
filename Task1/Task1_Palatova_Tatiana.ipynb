{
  "nbformat": 4,
  "nbformat_minor": 0,
  "metadata": {
    "colab": {
      "name": "Task1_Palatova Tatiana.ipynb",
      "provenance": []
    },
    "kernelspec": {
      "name": "python3",
      "display_name": "Python 3"
    }
  },
  "cells": [
    {
      "cell_type": "markdown",
      "metadata": {
        "id": "2Ff6ZP8NukS9"
      },
      "source": [
        "Задача 1\r\n",
        "\r\n",
        "1). Создайте два вещественных тензора: a размером (3, 4) и b размером (12,)\r\n",
        " \r\n",
        "2). Создайте тензор c, являющийся тензором b, но размера (2, 2, 3) \r\n",
        "\r\n",
        "3). Выведите первый столбец матрицы a с помощью индексации"
      ]
    },
    {
      "cell_type": "code",
      "metadata": {
        "id": "NR8rVBXuuzk_"
      },
      "source": [
        "import torch\r\n",
        "import matplotlib.pyplot as plt\r\n",
        "\r\n",
        "# Пункт 1\r\n",
        "a = torch.FloatTensor(3, 4)\r\n",
        "b = torch.FloatTensor(range(12))"
      ],
      "execution_count": 2,
      "outputs": []
    },
    {
      "cell_type": "code",
      "metadata": {
        "id": "yJGoLCOau8CN"
      },
      "source": [
        "# Пункт 2\r\n",
        "c = b.view(2, 2, 3)"
      ],
      "execution_count": 3,
      "outputs": []
    },
    {
      "cell_type": "code",
      "metadata": {
        "colab": {
          "base_uri": "https://localhost:8080/"
        },
        "id": "SWOoZiKDu_PR",
        "outputId": "d5dc41ea-badd-48fe-9bbe-be10295ba8b2"
      },
      "source": [
        "# Пункт 3\r\n",
        "a[:,0]"
      ],
      "execution_count": 4,
      "outputs": [
        {
          "output_type": "execute_result",
          "data": {
            "text/plain": [
              "tensor([3.8760e-35,        nan, 4.3066e+21])"
            ]
          },
          "metadata": {
            "tags": []
          },
          "execution_count": 4
        }
      ]
    },
    {
      "cell_type": "markdown",
      "metadata": {
        "id": "JJ7ftmokvFr8"
      },
      "source": [
        "Задача 2\r\n",
        "\r\n",
        "1). Создайте два вещественных тензора: a размером (5, 2) и b размером (1,10) \r\n",
        "\r\n",
        "2). Создайте тензор c, являющийся тензором b, но размера (5, 2) \r\n",
        "\r\n",
        "3). Произведите все арифметические операции с тензорами a и c"
      ]
    },
    {
      "cell_type": "code",
      "metadata": {
        "id": "IIokWGwXvNVH"
      },
      "source": [
        "# Пункт 1\r\n",
        "a = torch.FloatTensor(5, 2)\r\n",
        "b = torch.FloatTensor(1, 10)"
      ],
      "execution_count": 5,
      "outputs": []
    },
    {
      "cell_type": "code",
      "metadata": {
        "id": "4iM4cRv5vRFJ"
      },
      "source": [
        "# Пункт 2\r\n",
        "c = b.view(5, 2)"
      ],
      "execution_count": 9,
      "outputs": []
    },
    {
      "cell_type": "code",
      "metadata": {
        "id": "fPqzr_Q6vTyy"
      },
      "source": [
        "# Пункт 3\r\n",
        "# +\r\n",
        "sum = a.add(c)\r\n",
        "# -\r\n",
        "diff = a.sub(c)\r\n",
        "# *\r\n",
        "mult = a.mul(c)\r\n",
        "# /\r\n",
        "div = a.div(c)"
      ],
      "execution_count": 21,
      "outputs": []
    },
    {
      "cell_type": "markdown",
      "metadata": {
        "id": "rUb_E4FevfIh"
      },
      "source": [
        "Задача 3\r\n",
        "\r\n",
        "1). Создайте тензор целых чисел images размерности (100, 200, 200, 3) (можно интерпретировать это как 100 картинок размера 200х200 с тремя цветовыми каналами, то есть 100 цветных изображений 200х200). Заполните его нулями\r\n",
        "\r\n",
        "2). Сделайте так, чтобы у i-ой по порядку картинки была нарисована белая полоса толщиной два пикселя в строках, которые соответствуют номеру картинки. Например, у 3-ей по порядку картинки белая полоска будет занимать 6 и 7 строки, у 99 -- 198 и 199. Сделать белую строку можно, записав в ячейки тензора число 255 (по всем трём каналам). Выведите пару примеров с помощоью pylot\r\n",
        "\r\n",
        "3). Посчитайте среднее тензора images по 1-ой оси (по сути - средняя картинка), умножьте полученный тензор на 70. Нарисуйте с помощью pyplot, должна получиться серая картинка (при взятии среднего нужно привести тензор к float с помощью .float(), при отрисовке обратно к int с помощью .int())"
      ]
    },
    {
      "cell_type": "code",
      "metadata": {
        "colab": {
          "base_uri": "https://localhost:8080/",
          "height": 287
        },
        "id": "fxiwp_SMviG3",
        "outputId": "bebdb4b8-38d3-4e42-fb3c-431300b4c024"
      },
      "source": [
        "# Пункт 1\r\n",
        "images = torch.IntTensor(100, 200, 200, 3)\r\n",
        "plt.imshow(images[0])"
      ],
      "execution_count": 17,
      "outputs": [
        {
          "output_type": "execute_result",
          "data": {
            "text/plain": [
              "<matplotlib.image.AxesImage at 0x7fd503321b70>"
            ]
          },
          "metadata": {
            "tags": []
          },
          "execution_count": 17
        },
        {
          "output_type": "display_data",
          "data": {
            "image/png": "[encoded data removed]",
            "text/plain": [
              "<Figure size 432x288 with 1 Axes>"
            ]
          },
          "metadata": {
            "tags": [],
            "needs_background": "light"
          }
        }
      ]
    },
    {
      "cell_type": "code",
      "metadata": {
        "colab": {
          "base_uri": "https://localhost:8080/",
          "height": 269
        },
        "id": "PwYYSPB6vqb2",
        "outputId": "bfb148bd-413a-48e6-90a2-f1a0aaf330b3"
      },
      "source": [
        "# Пункт 2\r\n",
        "\r\n",
        "def show_line(index, images):\r\n",
        "    image_index = images[index]\r\n",
        "    image_index[index * 2, :, :] = 255\r\n",
        "    image_index[index * 2 + 1, :, :] = 255\r\n",
        "    plt.imshow(image_index)\r\n",
        " \r\n",
        "# Проверка функции отрисовки линий\r\n",
        "show_line(3, images)\r\n",
        "show_line(70, images)\r\n",
        "show_line(50, images)"
      ],
      "execution_count": 18,
      "outputs": [
        {
          "output_type": "display_data",
          "data": {
            "image/png": "[encoded data removed]",
            "text/plain": [
              "<Figure size 432x288 with 1 Axes>"
            ]
          },
          "metadata": {
            "tags": [],
            "needs_background": "light"
          }
        }
      ]
    },
    {
      "cell_type": "code",
      "metadata": {
        "colab": {
          "base_uri": "https://localhost:8080/",
          "height": 287
        },
        "id": "DctF1YE-vuLo",
        "outputId": "a4e4baea-f6a5-4345-baeb-17db511cfaf2"
      },
      "source": [
        "# Пункт 3\r\n",
        "image_float = images.float()\r\n",
        "image_mean = image_float.mean(0)\r\n",
        "result_image = image_mean.add(1).mul(70).int()\r\n",
        "plt.imshow(result_image)"
      ],
      "execution_count": 19,
      "outputs": [
        {
          "output_type": "execute_result",
          "data": {
            "text/plain": [
              "<matplotlib.image.AxesImage at 0x7fd503378a58>"
            ]
          },
          "metadata": {
            "tags": []
          },
          "execution_count": 19
        },
        {
          "output_type": "display_data",
          "data": {
            "image/png": "[encoded data removed]",
            "text/plain": [
              "<Figure size 432x288 with 1 Axes>"
            ]
          },
          "metadata": {
            "tags": [],
            "needs_background": "light"
          }
        }
      ]
    },
    {
      "cell_type": "markdown",
      "metadata": {
        "id": "Fcs1KFTRvxco"
      },
      "source": [
        "Задача 4\r\n",
        "\r\n",
        "Напишите функцию forward_pass(X, w) (w0 входит в w) для одного нейрона (с сигмоидой) с помощью PyTorch"
      ]
    },
    {
      "cell_type": "code",
      "metadata": {
        "colab": {
          "base_uri": "https://localhost:8080/"
        },
        "id": "imZoTOwhv1EZ",
        "outputId": "c31af87f-525c-47b4-8fc1-63c0c719807c"
      },
      "source": [
        "def forward_pass(X, w):\r\n",
        "    return torch.sigmoid(X @ w)\r\n",
        "\r\n",
        "X = torch.FloatTensor([[-5, 5], [2, 3], [1, -1]])\r\n",
        "w = torch.FloatTensor([[-0.5], [2.5]])\r\n",
        "result = forward_pass(X, w)\r\n",
        "print('result: {}'.format(result))"
      ],
      "execution_count": 20,
      "outputs": [
        {
          "output_type": "stream",
          "text": [
            "result: tensor([[1.0000],\n",
            "        [0.9985],\n",
            "        [0.0474]])\n"
          ],
          "name": "stdout"
        }
      ]
    }
  ]
}