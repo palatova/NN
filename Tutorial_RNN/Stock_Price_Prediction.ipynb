{
  "nbformat": 4,
  "nbformat_minor": 0,
  "metadata": {
    "kernelspec": {
      "display_name": "Python 3",
      "language": "python",
      "name": "python3"
    },
    "language_info": {
      "codemirror_mode": {
        "name": "ipython",
        "version": 3
      },
      "file_extension": ".py",
      "mimetype": "text/x-python",
      "name": "python",
      "nbconvert_exporter": "python",
      "pygments_lexer": "ipython3",
      "version": "3.7.4"
    },
    "toc": {
      "base_numbering": 1,
      "nav_menu": {},
      "number_sections": true,
      "sideBar": true,
      "skip_h1_title": false,
      "title_cell": "Table of Contents",
      "title_sidebar": "Contents",
      "toc_cell": false,
      "toc_position": {},
      "toc_section_display": true,
      "toc_window_display": false
    },
    "colab": {
      "name": "Stock Price Prediction.ipynb",
      "provenance": []
    }
  },
  "cells": [
    {
      "cell_type": "markdown",
      "metadata": {
        "id": "BHvFXw-mFoEJ"
      },
      "source": [
        "# Прогноз курса акций с использованием RNN - рекуррентной нейронной сети\r\n",
        "\r\n"
      ]
    },
    {
      "cell_type": "markdown",
      "metadata": {
        "id": "ZEP4mGZQFoEN"
      },
      "source": [
        "![](https://upload.wikimedia.org/wikipedia/commons/thumb/b/b5/Recurrent_neural_network_unfold.svg/1920px-Recurrent_neural_network_unfold.svg.png)"
      ]
    },
    {
      "cell_type": "markdown",
      "metadata": {
        "id": "RarvVldmFoEN"
      },
      "source": [
        "### Прогнозирование курса акций\n",
        "\n",
        "Прогнозирование цен на акции - это попытка определить будущее акций компании. Это можно сделать, проанализировав прошлые данные."
      ]
    },
    {
      "cell_type": "markdown",
      "metadata": {
        "id": "3s4sezonFoEO"
      },
      "source": [
        "### Imports"
      ]
    },
    {
      "cell_type": "code",
      "metadata": {
        "id": "D814_mHYFoEP"
      },
      "source": [
        "import numpy as np\n",
        "import pandas as pd\n",
        "import matplotlib.pyplot as plt\n",
        "from sklearn.preprocessing import MinMaxScaler\n",
        "from keras.models import Sequential, load_model\n",
        "from keras.layers import LSTM, Dense, Dropout\n",
        "import os"
      ],
      "execution_count": 68,
      "outputs": []
    },
    {
      "cell_type": "markdown",
      "metadata": {
        "id": "naKmV8OPFoEQ"
      },
      "source": [
        "### Загружаем датасет.\r\n",
        "Для наших данных мы будем использовать датасет AAPL_data с Kaggle.\r\n",
        "Он имеет семь признаков: date, open, high, low, close, volume и name."
      ]
    },
    {
      "cell_type": "code",
      "metadata": {
        "id": "n0x0DPIeFoEQ",
        "outputId": "b060e275-c26b-4165-cf53-ed204b68e8db",
        "colab": {
          "base_uri": "https://localhost:8080/",
          "height": 202
        }
      },
      "source": [
        "df = pd.read_csv('/AAPL_data.csv')\n",
        "df.head()"
      ],
      "execution_count": 70,
      "outputs": [
        {
          "output_type": "execute_result",
          "data": {
            "text/html": [
              "<div>\n",
              "<style scoped>\n",
              "    .dataframe tbody tr th:only-of-type {\n",
              "        vertical-align: middle;\n",
              "    }\n",
              "\n",
              "    .dataframe tbody tr th {\n",
              "        vertical-align: top;\n",
              "    }\n",
              "\n",
              "    .dataframe thead th {\n",
              "        text-align: right;\n",
              "    }\n",
              "</style>\n",
              "<table border=\"1\" class=\"dataframe\">\n",
              "  <thead>\n",
              "    <tr style=\"text-align: right;\">\n",
              "      <th></th>\n",
              "      <th>date</th>\n",
              "      <th>open</th>\n",
              "      <th>high</th>\n",
              "      <th>low</th>\n",
              "      <th>close</th>\n",
              "      <th>volume</th>\n",
              "      <th>Name</th>\n",
              "    </tr>\n",
              "  </thead>\n",
              "  <tbody>\n",
              "    <tr>\n",
              "      <th>0</th>\n",
              "      <td>2013-02-08</td>\n",
              "      <td>67.7142</td>\n",
              "      <td>68.4014</td>\n",
              "      <td>66.8928</td>\n",
              "      <td>67.8542</td>\n",
              "      <td>158168416</td>\n",
              "      <td>AAPL</td>\n",
              "    </tr>\n",
              "    <tr>\n",
              "      <th>1</th>\n",
              "      <td>2013-02-11</td>\n",
              "      <td>68.0714</td>\n",
              "      <td>69.2771</td>\n",
              "      <td>67.6071</td>\n",
              "      <td>68.5614</td>\n",
              "      <td>129029425</td>\n",
              "      <td>AAPL</td>\n",
              "    </tr>\n",
              "    <tr>\n",
              "      <th>2</th>\n",
              "      <td>2013-02-12</td>\n",
              "      <td>68.5014</td>\n",
              "      <td>68.9114</td>\n",
              "      <td>66.8205</td>\n",
              "      <td>66.8428</td>\n",
              "      <td>151829363</td>\n",
              "      <td>AAPL</td>\n",
              "    </tr>\n",
              "    <tr>\n",
              "      <th>3</th>\n",
              "      <td>2013-02-13</td>\n",
              "      <td>66.7442</td>\n",
              "      <td>67.6628</td>\n",
              "      <td>66.1742</td>\n",
              "      <td>66.7156</td>\n",
              "      <td>118721995</td>\n",
              "      <td>AAPL</td>\n",
              "    </tr>\n",
              "    <tr>\n",
              "      <th>4</th>\n",
              "      <td>2013-02-14</td>\n",
              "      <td>66.3599</td>\n",
              "      <td>67.3771</td>\n",
              "      <td>66.2885</td>\n",
              "      <td>66.6556</td>\n",
              "      <td>88809154</td>\n",
              "      <td>AAPL</td>\n",
              "    </tr>\n",
              "  </tbody>\n",
              "</table>\n",
              "</div>"
            ],
            "text/plain": [
              "         date     open     high      low    close     volume  Name\n",
              "0  2013-02-08  67.7142  68.4014  66.8928  67.8542  158168416  AAPL\n",
              "1  2013-02-11  68.0714  69.2771  67.6071  68.5614  129029425  AAPL\n",
              "2  2013-02-12  68.5014  68.9114  66.8205  66.8428  151829363  AAPL\n",
              "3  2013-02-13  66.7442  67.6628  66.1742  66.7156  118721995  AAPL\n",
              "4  2013-02-14  66.3599  67.3771  66.2885  66.6556   88809154  AAPL"
            ]
          },
          "metadata": {
            "tags": []
          },
          "execution_count": 70
        }
      ]
    },
    {
      "cell_type": "markdown",
      "metadata": {
        "id": "CWbrmOiqFoER"
      },
      "source": [
        "### Предварительная обработка и извлечение признаков"
      ]
    },
    {
      "cell_type": "code",
      "metadata": {
        "id": "y6AEad3mFoER",
        "outputId": "2a503baf-47dc-490c-84c5-994f609410ba",
        "colab": {
          "base_uri": "https://localhost:8080/"
        }
      },
      "source": [
        "df = df['open'].values\n",
        "df = df.reshape(-1, 1)\n",
        "print(df.shape)\n",
        "df[:5]"
      ],
      "execution_count": 71,
      "outputs": [
        {
          "output_type": "stream",
          "text": [
            "(1259, 1)\n"
          ],
          "name": "stdout"
        },
        {
          "output_type": "execute_result",
          "data": {
            "text/plain": [
              "array([[67.7142],\n",
              "       [68.0714],\n",
              "       [68.5014],\n",
              "       [66.7442],\n",
              "       [66.3599]])"
            ]
          },
          "metadata": {
            "tags": []
          },
          "execution_count": 71
        }
      ]
    },
    {
      "cell_type": "code",
      "metadata": {
        "id": "q8tFO6XYFoER",
        "outputId": "258f6c8c-1bce-466b-bf71-f0bc9cabdc1d",
        "colab": {
          "base_uri": "https://localhost:8080/"
        }
      },
      "source": [
        "dataset_train = np.array(df[:int(df.shape[0]*0.8)])\n",
        "dataset_test = np.array(df[int(df.shape[0]*0.8)-50:])\n",
        "print(dataset_train.shape)\n",
        "print(dataset_test.shape)"
      ],
      "execution_count": 73,
      "outputs": [
        {
          "output_type": "stream",
          "text": [
            "(1007, 1)\n",
            "(302, 1)\n"
          ],
          "name": "stdout"
        }
      ]
    },
    {
      "cell_type": "code",
      "metadata": {
        "id": "zTPZT4LEFoES",
        "outputId": "efb8a6d0-e598-4435-8fad-fc034745b4a1",
        "colab": {
          "base_uri": "https://localhost:8080/"
        }
      },
      "source": [
        "scaler = MinMaxScaler(feature_range=(0,1))\n",
        "dataset_train = scaler.fit_transform(dataset_train)\n",
        "dataset_train[:5]"
      ],
      "execution_count": 74,
      "outputs": [
        {
          "output_type": "execute_result",
          "data": {
            "text/plain": [
              "array([[0.155509],\n",
              "       [0.160029],\n",
              "       [0.16547 ],\n",
              "       [0.143235],\n",
              "       [0.138373]])"
            ]
          },
          "metadata": {
            "tags": []
          },
          "execution_count": 74
        }
      ]
    },
    {
      "cell_type": "code",
      "metadata": {
        "scrolled": true,
        "id": "NdWg92RbFoES",
        "outputId": "a0803838-f3f7-40fc-93f4-832f6b72362c",
        "colab": {
          "base_uri": "https://localhost:8080/"
        }
      },
      "source": [
        "dataset_test = scaler.transform(dataset_test)\n",
        "dataset_test[:5]"
      ],
      "execution_count": 75,
      "outputs": [
        {
          "output_type": "execute_result",
          "data": {
            "text/plain": [
              "array([[0.704862],\n",
              "       [0.708658],\n",
              "       [0.700433],\n",
              "       [0.710809],\n",
              "       [0.695182]])"
            ]
          },
          "metadata": {
            "tags": []
          },
          "execution_count": 75
        }
      ]
    },
    {
      "cell_type": "code",
      "metadata": {
        "id": "SPnXql6hFoES"
      },
      "source": [
        "def create_dataset(df):\n",
        "    x = []\n",
        "    y = []\n",
        "    for i in range(50, df.shape[0]):\n",
        "        x.append(df[i-50:i, 0])\n",
        "        y.append(df[i, 0])\n",
        "    x = np.array(x)\n",
        "    y = np.array(y)\n",
        "    return x,y "
      ],
      "execution_count": 76,
      "outputs": []
    },
    {
      "cell_type": "code",
      "metadata": {
        "id": "FUX6ioCMFoET",
        "outputId": "a00ca5cd-8e4d-4bc4-e9b4-1df6f56e317a",
        "colab": {
          "base_uri": "https://localhost:8080/"
        }
      },
      "source": [
        "x_train, y_train = create_dataset(dataset_train)\n",
        "x_train[:1]"
      ],
      "execution_count": 77,
      "outputs": [
        {
          "output_type": "execute_result",
          "data": {
            "text/plain": [
              "array([[0.155509, 0.160029, 0.16547 , 0.143235, 0.138373, 0.1462  , 0.132192, 0.126027, 0.104896, 0.110771, 0.119085,\n",
              "        0.100956, 0.109289, 0.101372, 0.090436, 0.071997, 0.060574, 0.084127, 0.066032, 0.075612, 0.075522, 0.086097,\n",
              "        0.073173, 0.08109 , 0.090309, 0.096671, 0.129299, 0.125538, 0.112524, 0.120405, 0.13868 , 0.140037, 0.123804,\n",
              "        0.111801, 0.097485, 0.071637, 0.07845 , 0.082772, 0.066032, 0.066665, 0.069394, 0.07254 , 0.082698, 0.083476,\n",
              "        0.070551, 0.060736, 0.058386, 0.030766, 0.      , 0.008442]])"
            ]
          },
          "metadata": {
            "tags": []
          },
          "execution_count": 77
        }
      ]
    },
    {
      "cell_type": "code",
      "metadata": {
        "id": "I832bEGFFoET",
        "outputId": "43759a03-3c92-4736-88a3-2776c8f5175b",
        "colab": {
          "base_uri": "https://localhost:8080/"
        }
      },
      "source": [
        "x_test, y_test = create_dataset(dataset_test)\n",
        "x_test[:1]"
      ],
      "execution_count": 78,
      "outputs": [
        {
          "output_type": "execute_result",
          "data": {
            "text/plain": [
              "array([[0.704862, 0.708658, 0.700433, 0.710809, 0.695182, 0.680061, 0.690564, 0.684237, 0.6812  , 0.701446, 0.719793,\n",
              "        0.732193, 0.739152, 0.754336, 0.758638, 0.77243 , 0.763953, 0.775847, 0.776606, 0.770912, 0.761296, 0.773063,\n",
              "        0.785716, 0.772177, 0.774708, 0.763953, 0.764585, 0.765471, 0.776353, 0.791157, 0.801533, 0.801153, 0.803115,\n",
              "        0.805835, 0.796092, 0.817097, 0.809505, 0.822791, 0.817097, 0.811403, 0.822411, 0.838228, 0.844175, 0.828864,\n",
              "        0.831648, 0.906049, 0.918007, 0.922246, 0.932621, 0.950462]])"
            ]
          },
          "metadata": {
            "tags": []
          },
          "execution_count": 78
        }
      ]
    },
    {
      "cell_type": "code",
      "metadata": {
        "id": "pgG6-C3bFoET"
      },
      "source": [
        "# Reshape features for LSTM Layer\n",
        "x_train = np.reshape(x_train, (x_train.shape[0], x_train.shape[1], 1))\n",
        "x_test = np.reshape(x_test, (x_test.shape[0], x_test.shape[1], 1))"
      ],
      "execution_count": 79,
      "outputs": []
    },
    {
      "cell_type": "markdown",
      "metadata": {
        "id": "FYpF_Z7GFoEU"
      },
      "source": [
        "### Building Model"
      ]
    },
    {
      "cell_type": "code",
      "metadata": {
        "id": "HEKATogUFoEU"
      },
      "source": [
        "model = Sequential()\n",
        "model.add(LSTM(units=96, return_sequences=True, input_shape=(x_train.shape[1], 1)))\n",
        "model.add(Dropout(0.2))\n",
        "model.add(LSTM(units=96, return_sequences=True))\n",
        "model.add(Dropout(0.2))\n",
        "model.add(LSTM(units=96, return_sequences=True))\n",
        "model.add(Dropout(0.2))\n",
        "model.add(LSTM(units=96))\n",
        "model.add(Dropout(0.2))\n",
        "model.add(Dense(units=1))"
      ],
      "execution_count": 80,
      "outputs": []
    },
    {
      "cell_type": "code",
      "metadata": {
        "id": "zWVvIKH8FoEU"
      },
      "source": [
        "model.compile(loss='mean_squared_error', optimizer='adam')"
      ],
      "execution_count": 81,
      "outputs": []
    },
    {
      "cell_type": "code",
      "metadata": {
        "scrolled": true,
        "id": "R2z0h7rjFoEU"
      },
      "source": [
        "if(not os.path.exists('stock_prediction.h5')):\n",
        "    model.fit(x_train, y_train, epochs=50, batch_size=32)\n",
        "    model.save('stock_prediction.h5')"
      ],
      "execution_count": 84,
      "outputs": []
    },
    {
      "cell_type": "code",
      "metadata": {
        "id": "ZEu3WEQLFoEV"
      },
      "source": [
        "model = load_model('stock_prediction.h5')"
      ],
      "execution_count": 82,
      "outputs": []
    },
    {
      "cell_type": "markdown",
      "metadata": {
        "id": "FYnmizRRFoEV"
      },
      "source": [
        "### Визуализирование результатов"
      ]
    },
    {
      "cell_type": "code",
      "metadata": {
        "scrolled": true,
        "id": "BnZz9LQgFoEV",
        "outputId": "b5b2eaa6-1b70-45a6-e664-e252ab391da3",
        "colab": {
          "base_uri": "https://localhost:8080/",
          "height": 283
        }
      },
      "source": [
        "predictions = model.predict(x_test)\n",
        "predictions = scaler.inverse_transform(predictions)\n",
        "\n",
        "fig, ax = plt.subplots(figsize=(8,4))\n",
        "plt.plot(df, color='red',  label=\"True Price\")\n",
        "ax.plot(range(len(y_train)+50,len(y_train)+50+len(predictions)),predictions, color='blue', label='Predicted Testing Price')\n",
        "plt.legend()"
      ],
      "execution_count": 83,
      "outputs": [
        {
          "output_type": "execute_result",
          "data": {
            "text/plain": [
              "<matplotlib.legend.Legend at 0x7f3645eb7e80>"
            ]
          },
          "metadata": {
            "tags": []
          },
          "execution_count": 83
        },
        {
          "output_type": "display_data",
          "data": {
            "image/png": "[encoded data removed]",
            "text/plain": [
              "<Figure size 576x288 with 1 Axes>"
            ]
          },
          "metadata": {
            "tags": [],
            "needs_background": "light"
          }
        }
      ]
    },
    {
      "cell_type": "code",
      "metadata": {
        "scrolled": true,
        "id": "-HP0pn1cFoEV",
        "outputId": "00e8b69d-4d6d-4bee-face-dc9f0c99c183",
        "colab": {
          "base_uri": "https://localhost:8080/",
          "height": 283
        }
      },
      "source": [
        "y_test_scaled = scaler.inverse_transform(y_test.reshape(-1, 1))\n",
        "\n",
        "fig, ax = plt.subplots(figsize=(8,4))\n",
        "ax.plot(y_test_scaled, color='red', label='True Testing Price')\n",
        "plt.plot(predictions, color='blue', label='Predicted Testing Price')\n",
        "plt.legend()"
      ],
      "execution_count": 85,
      "outputs": [
        {
          "output_type": "execute_result",
          "data": {
            "text/plain": [
              "<matplotlib.legend.Legend at 0x7f36457de128>"
            ]
          },
          "metadata": {
            "tags": []
          },
          "execution_count": 85
        },
        {
          "output_type": "display_data",
          "data": {
            "image/png": "[encoded data removed]",
            "text/plain": [
              "<Figure size 576x288 with 1 Axes>"
            ]
          },
          "metadata": {
            "tags": [],
            "needs_background": "light"
          }
        }
      ]
    },
    {
      "cell_type": "code",
      "metadata": {
        "id": "zKBlMPeZFoEV",
        "outputId": "b2753801-af2d-4a17-d2f5-3a163559447a",
        "colab": {
          "base_uri": "https://localhost:8080/"
        }
      },
      "source": [
        "x = x_test[-1]\n",
        "num_timesteps = 100\n",
        "preds = []\n",
        "for i in range(num_timesteps):\n",
        "    data = np.expand_dims(x, axis=0)\n",
        "    prediction = model.predict(data)\n",
        "    prediction = scaler.inverse_transform(prediction)\n",
        "    preds.append(prediction[0][0])\n",
        "    x = np.delete(x, 0, axis=0) # delete first row\n",
        "    x = np.vstack([x, prediction]) # add prediction\n",
        "\n",
        "print(preds)"
      ],
      "execution_count": 86,
      "outputs": [
        {
          "output_type": "stream",
          "text": [
            "[155.04558, 243.88284, 275.4856, 280.35233, 282.4214, 282.84595, 282.8768, 282.73712, 282.56778, 282.4084, 282.27386, 282.16586, 282.08203, 282.01846, 281.97128, 281.9371, 281.91296, 281.89648, 281.88593, 281.8798, 281.8767, 281.87622, 281.87738, 281.87994, 281.88336, 281.88748, 281.89197, 281.89694, 281.902, 281.9075, 281.91306, 281.91867, 281.9244, 281.9303, 281.9364, 281.9429, 281.94986, 281.95795, 281.96744, 281.9788, 281.99255, 282.00858, 282.02573, 282.0417, 282.05273, 282.0536, 282.03653, 281.99255, 281.9128, 281.79752, 281.64264, 281.61096, 281.6081, 281.6078, 281.60776, 281.60782, 281.60794, 281.6081, 281.60828, 281.6084, 281.60843, 281.60855, 281.60858, 281.60864, 281.6087, 281.6088, 281.6088, 281.60886, 281.6089, 281.60892, 281.60898, 281.60904, 281.60913, 281.6091, 281.60913, 281.6092, 281.60928, 281.6093, 281.60938, 281.6094, 281.6094, 281.60953, 281.60953, 281.6096, 281.60962, 281.60965, 281.6098, 281.60977, 281.60977, 281.60986, 281.60992, 281.60992, 281.61002, 281.61008, 281.6101, 281.61017, 281.6102, 281.61026, 281.6103, 281.61032]\n"
          ],
          "name": "stdout"
        }
      ]
    },
    {
      "cell_type": "markdown",
      "metadata": {
        "id": "mxPj8j5cFoEW"
      },
      "source": [
        "## Ресурсы\n",
        "\n",
        "<ul>\n",
        "    <li><a href=\"https://en.wikipedia.org/wiki/Stock_market_prediction\">Stock market prediction (Wikipedia)</a></li>\n",
        "    <li><a href=\"https://towardsdatascience.com/stock-prediction-in-python-b66555171a2\">Stock Prediction in Python (William Koehrsen on Medium)</a></li>\n",
        "    "
      ]
    }
  ]
}