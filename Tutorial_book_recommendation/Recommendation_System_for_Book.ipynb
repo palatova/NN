{
  "nbformat": 4,
  "nbformat_minor": 0,
  "metadata": {
    "kernelspec": {
      "display_name": "Python 3",
      "language": "python",
      "name": "python3"
    },
    "language_info": {
      "codemirror_mode": {
        "name": "ipython",
        "version": 3
      },
      "file_extension": ".py",
      "mimetype": "text/x-python",
      "name": "python",
      "nbconvert_exporter": "python",
      "pygments_lexer": "ipython3",
      "version": "3.7.4"
    },
    "colab": {
      "name": "Recommendation_System_for_Book.ipynb",
      "provenance": []
    }
  },
  "cells": [
    {
      "cell_type": "markdown",
      "metadata": {
        "_uuid": "a336fb6ae5a3eb21f0e98bf9d067cd9e0a8edd67",
        "id": "gGmB4uJT-l-N"
      },
      "source": [
        "# Book Recommendation System"
      ]
    },
    {
      "cell_type": "code",
      "metadata": {
        "_uuid": "88f96d2c8edbe7341969b4eade5e01b22808e926",
        "id": "ghTdZeXe-l-Q"
      },
      "source": [
        "from fastai.collab import *\r\n",
        "import pandas"
      ],
      "execution_count": 22,
      "outputs": []
    },
    {
      "cell_type": "markdown",
      "metadata": {
        "id": "sadBWcszShUg"
      },
      "source": [
        "**Создание рекомендательной системы с библиотекой FastAI.**\r\n",
        "\r\n",
        "В данном ноутбуке будет показано, как создать  систему рекомендаций с использованием библиотеки FastAI, а также как построить модель на основе нейронной сети, чтобы получить еще лучшие результаты."
      ]
    },
    {
      "cell_type": "code",
      "metadata": {
        "_uuid": "995f0d3f2b67ae1d5be4a4b3c76a1d6321d56102",
        "id": "z08WZvEs-l-R",
        "colab": {
          "base_uri": "https://localhost:8080/"
        },
        "outputId": "9d2d353e-bb9d-4c1a-8239-37cf61b2b670"
      },
      "source": [
        "path = Path('/')\n",
        "path.ls()"
      ],
      "execution_count": 39,
      "outputs": [
        {
          "output_type": "execute_result",
          "data": {
            "text/plain": [
              "[PosixPath('/srv'),\n",
              " PosixPath('/media'),\n",
              " PosixPath('/sbin'),\n",
              " PosixPath('/opt'),\n",
              " PosixPath('/tmp'),\n",
              " PosixPath('/lib'),\n",
              " PosixPath('/bin'),\n",
              " PosixPath('/lib64'),\n",
              " PosixPath('/var'),\n",
              " PosixPath('/boot'),\n",
              " PosixPath('/root'),\n",
              " PosixPath('/run'),\n",
              " PosixPath('/etc'),\n",
              " PosixPath('/sys'),\n",
              " PosixPath('/mnt'),\n",
              " PosixPath('/proc'),\n",
              " PosixPath('/dev'),\n",
              " PosixPath('/home'),\n",
              " PosixPath('/usr'),\n",
              " PosixPath('/books.csv'),\n",
              " PosixPath('/.gitignore'),\n",
              " PosixPath('/ratings.csv'),\n",
              " PosixPath('/THANKS.md'),\n",
              " PosixPath('/to_read.csv'),\n",
              " PosixPath('/README.md'),\n",
              " PosixPath('/book_tags.csv'),\n",
              " PosixPath('/tags.csv'),\n",
              " PosixPath('/LICENSE'),\n",
              " PosixPath('/quick_look.ipynb'),\n",
              " PosixPath('/.dockerenv'),\n",
              " PosixPath('/tools'),\n",
              " PosixPath('/datalab'),\n",
              " PosixPath('/swift'),\n",
              " PosixPath('/content'),\n",
              " PosixPath('/tensorflow-1.15.2'),\n",
              " PosixPath('/lib32')]"
            ]
          },
          "metadata": {
            "tags": []
          },
          "execution_count": 39
        }
      ]
    },
    {
      "cell_type": "markdown",
      "metadata": {
        "id": "rWhWc4DATRql"
      },
      "source": [
        "Для наших данных мы будем использовать датасет goodbooks-10k, который содержит десять тысяч различных книг и около миллиона оценок. Он имеет три признака: book_id, user_id и rating. \r\n",
        "\r\n",
        "Для начала загрузим файл ratings.csv и выведем несколько первых строк данных, расположенных в файле"
      ]
    },
    {
      "cell_type": "code",
      "metadata": {
        "_uuid": "9e896d4d428d22aca0fd0da01fd2669e3baa349f",
        "id": "WOA8fNF5-l-T",
        "colab": {
          "base_uri": "https://localhost:8080/",
          "height": 202
        },
        "outputId": "b94ad32a-fd29-4b70-c2e2-22f1a922b2c7"
      },
      "source": [
        "ratings = pd.read_csv(path/'ratings.csv')\n",
        "ratings.head()"
      ],
      "execution_count": 40,
      "outputs": [
        {
          "output_type": "execute_result",
          "data": {
            "text/html": [
              "<div>\n",
              "<style scoped>\n",
              "    .dataframe tbody tr th:only-of-type {\n",
              "        vertical-align: middle;\n",
              "    }\n",
              "\n",
              "    .dataframe tbody tr th {\n",
              "        vertical-align: top;\n",
              "    }\n",
              "\n",
              "    .dataframe thead th {\n",
              "        text-align: right;\n",
              "    }\n",
              "</style>\n",
              "<table border=\"1\" class=\"dataframe\">\n",
              "  <thead>\n",
              "    <tr style=\"text-align: right;\">\n",
              "      <th></th>\n",
              "      <th>user_id</th>\n",
              "      <th>book_id</th>\n",
              "      <th>rating</th>\n",
              "    </tr>\n",
              "  </thead>\n",
              "  <tbody>\n",
              "    <tr>\n",
              "      <th>0</th>\n",
              "      <td>1</td>\n",
              "      <td>258</td>\n",
              "      <td>5</td>\n",
              "    </tr>\n",
              "    <tr>\n",
              "      <th>1</th>\n",
              "      <td>2</td>\n",
              "      <td>4081</td>\n",
              "      <td>4</td>\n",
              "    </tr>\n",
              "    <tr>\n",
              "      <th>2</th>\n",
              "      <td>2</td>\n",
              "      <td>260</td>\n",
              "      <td>5</td>\n",
              "    </tr>\n",
              "    <tr>\n",
              "      <th>3</th>\n",
              "      <td>2</td>\n",
              "      <td>9296</td>\n",
              "      <td>5</td>\n",
              "    </tr>\n",
              "    <tr>\n",
              "      <th>4</th>\n",
              "      <td>2</td>\n",
              "      <td>2318</td>\n",
              "      <td>3</td>\n",
              "    </tr>\n",
              "  </tbody>\n",
              "</table>\n",
              "</div>"
            ],
            "text/plain": [
              "   user_id  book_id  rating\n",
              "0        1      258       5\n",
              "1        2     4081       4\n",
              "2        2      260       5\n",
              "3        2     9296       5\n",
              "4        2     2318       3"
            ]
          },
          "metadata": {
            "tags": []
          },
          "execution_count": 40
        }
      ]
    },
    {
      "cell_type": "markdown",
      "metadata": {
        "id": "2h7YdJfYTtSL"
      },
      "source": [
        "Загрузив наши данные, мы можем создать CollabDataBunch, который представляет собой датасет, специально созданный для задач коллаборативной фильтрации. Мы передадим ему наши данные о рейтинге, случайное начальное число, а также размер нашей тестовой выборки, который определяется аргументом valid_pct."
      ]
    },
    {
      "cell_type": "code",
      "metadata": {
        "_uuid": "ddd31f28f2060bf474893212b3ec6b55062334cc",
        "id": "qz4a0gmB-l-U"
      },
      "source": [
        "data = CollabDataBunch.from_df(ratings, seed=42, valid_pct=0.1, user_name='user_id', item_name='book_id', rating_name='rating')"
      ],
      "execution_count": 41,
      "outputs": []
    },
    {
      "cell_type": "markdown",
      "metadata": {
        "id": "y1a6rP9yUFOK"
      },
      "source": [
        "Мы можем отобразить батч наших данных, используя метод show_batch."
      ]
    },
    {
      "cell_type": "code",
      "metadata": {
        "_uuid": "bb5161f0387bae2ce3b9c59da8f54346c5159cfa",
        "id": "Nn3eXknu-l-V",
        "outputId": "3e37af9c-87ae-4d25-b710-7e94e8a5b12f"
      },
      "source": [
        "data.show_batch()"
      ],
      "execution_count": null,
      "outputs": [
        {
          "output_type": "display_data",
          "data": {
            "text/html": [
              "<table border=\"1\" class=\"dataframe\">\n",
              "  <thead>\n",
              "    <tr style=\"text-align: right;\">\n",
              "      <th>user_id</th>\n",
              "      <th>book_id</th>\n",
              "      <th>target</th>\n",
              "    </tr>\n",
              "  </thead>\n",
              "  <tbody>\n",
              "    <tr>\n",
              "      <td>40234</td>\n",
              "      <td>39</td>\n",
              "      <td>3.0</td>\n",
              "    </tr>\n",
              "    <tr>\n",
              "      <td>23264</td>\n",
              "      <td>77</td>\n",
              "      <td>4.0</td>\n",
              "    </tr>\n",
              "    <tr>\n",
              "      <td>41953</td>\n",
              "      <td>2208</td>\n",
              "      <td>4.0</td>\n",
              "    </tr>\n",
              "    <tr>\n",
              "      <td>36431</td>\n",
              "      <td>2710</td>\n",
              "      <td>5.0</td>\n",
              "    </tr>\n",
              "    <tr>\n",
              "      <td>15299</td>\n",
              "      <td>6109</td>\n",
              "      <td>5.0</td>\n",
              "    </tr>\n",
              "  </tbody>\n",
              "</table>"
            ],
            "text/plain": [
              "<IPython.core.display.HTML object>"
            ]
          },
          "metadata": {
            "tags": []
          }
        }
      ]
    },
    {
      "cell_type": "markdown",
      "metadata": {
        "id": "TtmVfN2HUOOk"
      },
      "source": [
        "Последнее, что нам нужно сделать перед созданием и обучением нашей модели — получить максимальное и минимальное значения наших рейтингов. Затем мы передадим эти значения в нашу модель, чтобы она могла затем сжать окончательные результаты между этими двумя значениями."
      ]
    },
    {
      "cell_type": "code",
      "metadata": {
        "_uuid": "082dea4c28bb16e2e249f967520ff7ac0e6de21d",
        "id": "ClPbmAdq-l-V",
        "colab": {
          "base_uri": "https://localhost:8080/"
        },
        "outputId": "e9c63652-ab2e-4b56-80c8-5b66deabbe34"
      },
      "source": [
        "ratings.rating.min(), ratings.rating.max()"
      ],
      "execution_count": 42,
      "outputs": [
        {
          "output_type": "execute_result",
          "data": {
            "text/plain": [
              "(1, 5)"
            ]
          },
          "metadata": {
            "tags": []
          },
          "execution_count": 42
        }
      ]
    },
    {
      "cell_type": "markdown",
      "metadata": {
        "_uuid": "1be0675a845a48346536718a10c70066335eb632",
        "id": "tcnVTxOL-l-W"
      },
      "source": [
        "## EmbeddingDotBias Model"
      ]
    },
    {
      "cell_type": "markdown",
      "metadata": {
        "id": "UXoEpY9SUKuA"
      },
      "source": [
        "FastAI предоставляет два разных типа моделей коллаборативной фиьтрации. Первая — простая модель под названием **EmbeddingDotBias**, которая использовалась почти для всех рекомендательных систем несколько лет назад.  Она создает векторные представления как для пользователей, так и для книг, а затем берет их скалярное произведение.\r\n",
        "\r\n",
        "Векторное представление (embedding) — это перевод из дискретных объектов, таких как слова или идентификаторы книг и, в нашем случае, пользователей, в вектор вещественных значений. Это можно использовать для нахождения сходства между дискретными объектами, которое не было бы очевидным для модели, если бы в ней не использовались слои векторных представлений.\r\n",
        "\r\n",
        "Эти векторные представления являются низкоразмерными и обновляются во время обучения сети.\r\n",
        "\r\n",
        "Обе модели могут быть созданы с использованием класса collab_learner. По умолчанию аргумент use_nn имеет значение false, то есть мы создаем модель EmbeddingDotBias.\r\n",
        "\r\n",
        "В качестве следующих аргументов мы можем передать в collab_learner аргумент n_factors, который представляет размер векторных представлений, а также аргумент y_range, который указывает диапазон значений рейтинга, которые мы нашли ранее.\r\n",
        "\r\n",
        "\r\n",
        "\r\n"
      ]
    },
    {
      "cell_type": "code",
      "metadata": {
        "_uuid": "586efd6475cb2b5e677fad8bc3898ff3d075b187",
        "id": "XFsKLS24-l-W"
      },
      "source": [
        "learn = collab_learner(data, n_factors=40, y_range=(1, 5), wd=1e-1, model_dir=\"/tmp/model/\", path=\"/tmp/\")"
      ],
      "execution_count": 44,
      "outputs": []
    },
    {
      "cell_type": "code",
      "metadata": {
        "_uuid": "c9e35e23aea91cd6bdc8ae061e4638eba70aac71",
        "id": "RVuRdbCX-l-X",
        "colab": {
          "base_uri": "https://localhost:8080/"
        },
        "outputId": "dd7cd713-62e9-452a-a3a1-456ec260a96a"
      },
      "source": [
        "print(learn.summary())"
      ],
      "execution_count": 45,
      "outputs": [
        {
          "output_type": "stream",
          "text": [
            "EmbeddingDotBias\n",
            "======================================================================\n",
            "Layer (type)         Output Shape         Param #    Trainable \n",
            "======================================================================\n",
            "Embedding            [40]                 2,137,000  True      \n",
            "______________________________________________________________________\n",
            "Embedding            [40]                 400,040    True      \n",
            "______________________________________________________________________\n",
            "Embedding            [1]                  53,425     True      \n",
            "______________________________________________________________________\n",
            "Embedding            [1]                  10,001     True      \n",
            "______________________________________________________________________\n",
            "\n",
            "Total params: 2,600,466\n",
            "Total trainable params: 2,600,466\n",
            "Total non-trainable params: 0\n",
            "Optimized with 'torch.optim.adam.Adam', betas=(0.9, 0.99)\n",
            "Using true weight decay as discussed in https://www.fast.ai/2018/07/02/adam-weight-decay/ \n",
            "Loss function : FlattenedLoss\n",
            "======================================================================\n",
            "Callbacks functions applied \n",
            "\n"
          ],
          "name": "stdout"
        }
      ]
    },
    {
      "cell_type": "markdown",
      "metadata": {
        "id": "HhNdj1nxUp35"
      },
      "source": [
        "Теперь мы можем найти learning rate, обучить нашу модель с помощью метода fit_one_cycle и сохранить модель.\r\n"
      ]
    },
    {
      "cell_type": "code",
      "metadata": {
        "_uuid": "e921c5eba6ede1a03c533be762d2387cfdf09f9d",
        "id": "nfWJt575-l-Y",
        "colab": {
          "base_uri": "https://localhost:8080/",
          "height": 374
        },
        "outputId": "d0e28798-0543-41b8-cafb-a1972ddcc551"
      },
      "source": [
        "learn.lr_find()\n",
        "learn.recorder.plot()"
      ],
      "execution_count": 46,
      "outputs": [
        {
          "output_type": "display_data",
          "data": {
            "text/html": [
              "\n",
              "    <div>\n",
              "        <style>\n",
              "            /* Turns off some styling */\n",
              "            progress {\n",
              "                /* gets rid of default border in Firefox and Opera. */\n",
              "                border: none;\n",
              "                /* Needs to be in here for Safari polyfill so background images work as expected. */\n",
              "                background-size: auto;\n",
              "            }\n",
              "            .progress-bar-interrupted, .progress-bar-interrupted::-webkit-progress-bar {\n",
              "                background: #F44336;\n",
              "            }\n",
              "        </style>\n",
              "      <progress value='0' class='' max='1' style='width:300px; height:20px; vertical-align: middle;'></progress>\n",
              "      0.00% [0/1 00:00<00:00]\n",
              "    </div>\n",
              "    \n",
              "<table border=\"1\" class=\"dataframe\">\n",
              "  <thead>\n",
              "    <tr style=\"text-align: left;\">\n",
              "      <th>epoch</th>\n",
              "      <th>train_loss</th>\n",
              "      <th>valid_loss</th>\n",
              "      <th>time</th>\n",
              "    </tr>\n",
              "  </thead>\n",
              "  <tbody>\n",
              "  </tbody>\n",
              "</table><p>\n",
              "\n",
              "    <div>\n",
              "        <style>\n",
              "            /* Turns off some styling */\n",
              "            progress {\n",
              "                /* gets rid of default border in Firefox and Opera. */\n",
              "                border: none;\n",
              "                /* Needs to be in here for Safari polyfill so background images work as expected. */\n",
              "                background-size: auto;\n",
              "            }\n",
              "            .progress-bar-interrupted, .progress-bar-interrupted::-webkit-progress-bar {\n",
              "                background: #F44336;\n",
              "            }\n",
              "        </style>\n",
              "      <progress value='98' class='' max='84044' style='width:300px; height:20px; vertical-align: middle;'></progress>\n",
              "      0.12% [98/84044 00:04<1:09:35 1.7643]\n",
              "    </div>\n",
              "    "
            ],
            "text/plain": [
              "<IPython.core.display.HTML object>"
            ]
          },
          "metadata": {
            "tags": []
          }
        },
        {
          "output_type": "stream",
          "text": [
            "LR Finder is complete, type {learner_name}.recorder.plot() to see the graph.\n"
          ],
          "name": "stdout"
        },
        {
          "output_type": "display_data",
          "data": {
            "image/png": "[encoded data removed]",
            "text/plain": [
              "<Figure size 432x288 with 1 Axes>"
            ]
          },
          "metadata": {
            "tags": [],
            "needs_background": "light"
          }
        }
      ]
    },
    {
      "cell_type": "code",
      "metadata": {
        "_uuid": "b2bbaa618dcfb47e2150c99271e819ee9e6374b2",
        "id": "6Szdv1nH-l-Z",
        "colab": {
          "base_uri": "https://localhost:8080/",
          "height": 125
        },
        "outputId": "6d60198e-0535-47df-c44f-d8099e92a4cf"
      },
      "source": [
        "learn.fit_one_cycle(5, 3e-4)"
      ],
      "execution_count": null,
      "outputs": [
        {
          "output_type": "display_data",
          "data": {
            "text/html": [
              "\n",
              "    <div>\n",
              "        <style>\n",
              "            /* Turns off some styling */\n",
              "            progress {\n",
              "                /* gets rid of default border in Firefox and Opera. */\n",
              "                border: none;\n",
              "                /* Needs to be in here for Safari polyfill so background images work as expected. */\n",
              "                background-size: auto;\n",
              "            }\n",
              "            .progress-bar-interrupted, .progress-bar-interrupted::-webkit-progress-bar {\n",
              "                background: #F44336;\n",
              "            }\n",
              "        </style>\n",
              "      <progress value='1' class='' max='5' style='width:300px; height:20px; vertical-align: middle;'></progress>\n",
              "      20.00% [1/5 1:01:56<4:07:44]\n",
              "    </div>\n",
              "    \n",
              "<table border=\"1\" class=\"dataframe\">\n",
              "  <thead>\n",
              "    <tr style=\"text-align: left;\">\n",
              "      <th>epoch</th>\n",
              "      <th>train_loss</th>\n",
              "      <th>valid_loss</th>\n",
              "      <th>time</th>\n",
              "    </tr>\n",
              "  </thead>\n",
              "  <tbody>\n",
              "    <tr>\n",
              "      <td>0</td>\n",
              "      <td>1.157630</td>\n",
              "      <td>1.129455</td>\n",
              "      <td>1:01:56</td>\n",
              "    </tr>\n",
              "  </tbody>\n",
              "</table><p>\n",
              "\n",
              "    <div>\n",
              "        <style>\n",
              "            /* Turns off some styling */\n",
              "            progress {\n",
              "                /* gets rid of default border in Firefox and Opera. */\n",
              "                border: none;\n",
              "                /* Needs to be in here for Safari polyfill so background images work as expected. */\n",
              "                background-size: auto;\n",
              "            }\n",
              "            .progress-bar-interrupted, .progress-bar-interrupted::-webkit-progress-bar {\n",
              "                background: #F44336;\n",
              "            }\n",
              "        </style>\n",
              "      <progress value='17023' class='' max='84044' style='width:300px; height:20px; vertical-align: middle;'></progress>\n",
              "      20.25% [17023/84044 14:14<56:02 1.0002]\n",
              "    </div>\n",
              "    "
            ],
            "text/plain": [
              "<IPython.core.display.HTML object>"
            ]
          },
          "metadata": {
            "tags": []
          }
        }
      ]
    },
    {
      "cell_type": "code",
      "metadata": {
        "_uuid": "1f572c23e9c42b6ad28b2b1dd7828ec0dad0d3c0",
        "id": "mfpTdpCk-l-Z"
      },
      "source": [
        "learn.save('goodbooks-dot-1')"
      ],
      "execution_count": null,
      "outputs": []
    },
    {
      "cell_type": "markdown",
      "metadata": {
        "_uuid": "2d16aa90a97b8df051e16f2455213d2928fc0d14",
        "id": "RhZlEVmp-l-a"
      },
      "source": [
        "## EmbeddingNN Model"
      ]
    },
    {
      "cell_type": "markdown",
      "metadata": {
        "id": "KQbNMUcgUxrO"
      },
      "source": [
        "Второй тип модели коллаборативной фильтрации, предоставляемой FastAI, называется **EmbeddingNN**. Она дает нам возможность создавать векторные представления разных размеров и передавать их в нейронную сеть.\r\n",
        "\r\n",
        "FastAI также предоставляет нам возможность настроить количество слоев и их нейронов."
      ]
    },
    {
      "cell_type": "code",
      "metadata": {
        "_uuid": "692ca1e9c9e6957a0c420dc06c7839fe47e6dce5",
        "id": "lB0byjuC-l-a"
      },
      "source": [
        "learn = collab_learner(data, use_nn=True, emb_szs={'user_id': 40, 'book_id':40}, layers=[256, 128], y_range=(1, 5))"
      ],
      "execution_count": null,
      "outputs": []
    },
    {
      "cell_type": "markdown",
      "metadata": {
        "id": "zFnJ35Q7VDqA"
      },
      "source": [
        "Следующие шаги — найти learning rate и обучить модель."
      ]
    },
    {
      "cell_type": "code",
      "metadata": {
        "_uuid": "2e2f6412887e377d3935b1703f8d803f03a04796",
        "id": "eEhEOnh8-l-b",
        "outputId": "6308cc8e-c403-4b7b-dfd7-49bfca113eaf"
      },
      "source": [
        "learn.lr_find()\n",
        "learn.recorder.plot()"
      ],
      "execution_count": null,
      "outputs": [
        {
          "output_type": "display_data",
          "data": {
            "text/html": [
              ""
            ],
            "text/plain": [
              "<IPython.core.display.HTML object>"
            ]
          },
          "metadata": {
            "tags": []
          }
        },
        {
          "output_type": "stream",
          "text": [
            "LR Finder is complete, type {learner_name}.recorder.plot() to see the graph.\n"
          ],
          "name": "stdout"
        },
        {
          "output_type": "display_data",
          "data": {
            "image/png": "[encoded data removed]",
            "text/plain": [
              "<Figure size 432x288 with 1 Axes>"
            ]
          },
          "metadata": {
            "tags": [],
            "needs_background": "light"
          }
        }
      ]
    },
    {
      "cell_type": "code",
      "metadata": {
        "_uuid": "26a3e26aec670ae6efd27ba18c813ef65c884558",
        "id": "XtNuUmvU-l-b",
        "outputId": "98e337f9-f5f2-481e-a460-502bd402d5dd"
      },
      "source": [
        "learn.fit_one_cycle(5, 1e-2)"
      ],
      "execution_count": null,
      "outputs": [
        {
          "output_type": "display_data",
          "data": {
            "text/html": [
              "Total time: 1:06:29 <p><table border=\"1\" class=\"dataframe\">\n",
              "  <thead>\n",
              "    <tr style=\"text-align: left;\">\n",
              "      <th>epoch</th>\n",
              "      <th>train_loss</th>\n",
              "      <th>valid_loss</th>\n",
              "      <th>time</th>\n",
              "    </tr>\n",
              "  </thead>\n",
              "  <tbody>\n",
              "    <tr>\n",
              "      <td>0</td>\n",
              "      <td>0.778428</td>\n",
              "      <td>0.792107</td>\n",
              "      <td>13:26</td>\n",
              "    </tr>\n",
              "    <tr>\n",
              "      <td>1</td>\n",
              "      <td>0.782044</td>\n",
              "      <td>0.799858</td>\n",
              "      <td>13:27</td>\n",
              "    </tr>\n",
              "    <tr>\n",
              "      <td>2</td>\n",
              "      <td>0.777911</td>\n",
              "      <td>0.785180</td>\n",
              "      <td>13:18</td>\n",
              "    </tr>\n",
              "    <tr>\n",
              "      <td>3</td>\n",
              "      <td>0.750171</td>\n",
              "      <td>0.742878</td>\n",
              "      <td>13:01</td>\n",
              "    </tr>\n",
              "    <tr>\n",
              "      <td>4</td>\n",
              "      <td>0.676612</td>\n",
              "      <td>0.705698</td>\n",
              "      <td>13:15</td>\n",
              "    </tr>\n",
              "  </tbody>\n",
              "</table>"
            ],
            "text/plain": [
              "<IPython.core.display.HTML object>"
            ]
          },
          "metadata": {
            "tags": []
          }
        }
      ]
    },
    {
      "cell_type": "markdown",
      "metadata": {
        "id": "tKqrkslPVLbF"
      },
      "source": [
        "Мы видим, что нейронная сеть работает намного лучше, чем наша модель точечного продукта.\r\n"
      ]
    },
    {
      "cell_type": "code",
      "metadata": {
        "_uuid": "eb81cfc16cb5da65781ce0bbedaacdebd27788d3",
        "id": "g7-BE6fM-l-b"
      },
      "source": [
        "learn.save('goodbooks-nn-1')"
      ],
      "execution_count": null,
      "outputs": []
    },
    {
      "cell_type": "markdown",
      "metadata": {
        "_uuid": "75e8930f18401e2fd7ac8ebe2b52dd354f643fad",
        "id": "GARBYBb1-l-c"
      },
      "source": [
        "## Interpretation"
      ]
    },
    {
      "cell_type": "markdown",
      "metadata": {
        "id": "BhSgoC0BVkPo"
      },
      "source": [
        "Далее мы извлечем склонности к книгам и их веса, чтобы получить представление о том, какие книги должны быть ранжированы ниже или выше, с учетом векторного представления склонностей, а также того, насколько похожи некоторые из самых популярных книг с использованием весов слоя векторного представления.\r\n",
        "Для начала мы загрузим нашу модель EmbeddingDotBias и получим 1000 самых популярных книг по количеству отзывов."
      ]
    },
    {
      "cell_type": "code",
      "metadata": {
        "_uuid": "4bc85cecb1fff002a74f874cc8e86ed33d46c770",
        "id": "2k54z995-l-c"
      },
      "source": [
        "learn = collab_learner(data, n_factors=40, y_range=(1, 5), wd=1e-1, model_dir=\"/tmp/model/\", path=\"/tmp/\")\n",
        "learn.load('goodbooks-dot-1');"
      ],
      "execution_count": null,
      "outputs": []
    },
    {
      "cell_type": "code",
      "metadata": {
        "_uuid": "f92e25f9db1d6937995b14a94e365fb5f9f9dd36",
        "id": "9Xc5b6Ig-l-c",
        "outputId": "5f669704-e0e1-4e3f-92f2-cde41177b9c1"
      },
      "source": [
        "books = pd.read_csv(path/'books.csv')\n",
        "books.head()"
      ],
      "execution_count": null,
      "outputs": [
        {
          "output_type": "execute_result",
          "data": {
            "text/html": [
              "<div>\n",
              "<style scoped>\n",
              "    .dataframe tbody tr th:only-of-type {\n",
              "        vertical-align: middle;\n",
              "    }\n",
              "\n",
              "    .dataframe tbody tr th {\n",
              "        vertical-align: top;\n",
              "    }\n",
              "\n",
              "    .dataframe thead th {\n",
              "        text-align: right;\n",
              "    }\n",
              "</style>\n",
              "<table border=\"1\" class=\"dataframe\">\n",
              "  <thead>\n",
              "    <tr style=\"text-align: right;\">\n",
              "      <th></th>\n",
              "      <th>book_id</th>\n",
              "      <th>goodreads_book_id</th>\n",
              "      <th>best_book_id</th>\n",
              "      <th>work_id</th>\n",
              "      <th>books_count</th>\n",
              "      <th>isbn</th>\n",
              "      <th>isbn13</th>\n",
              "      <th>authors</th>\n",
              "      <th>original_publication_year</th>\n",
              "      <th>original_title</th>\n",
              "      <th>...</th>\n",
              "      <th>ratings_count</th>\n",
              "      <th>work_ratings_count</th>\n",
              "      <th>work_text_reviews_count</th>\n",
              "      <th>ratings_1</th>\n",
              "      <th>ratings_2</th>\n",
              "      <th>ratings_3</th>\n",
              "      <th>ratings_4</th>\n",
              "      <th>ratings_5</th>\n",
              "      <th>image_url</th>\n",
              "      <th>small_image_url</th>\n",
              "    </tr>\n",
              "  </thead>\n",
              "  <tbody>\n",
              "    <tr>\n",
              "      <th>0</th>\n",
              "      <td>1</td>\n",
              "      <td>2767052</td>\n",
              "      <td>2767052</td>\n",
              "      <td>2792775</td>\n",
              "      <td>272</td>\n",
              "      <td>439023483</td>\n",
              "      <td>9.780439e+12</td>\n",
              "      <td>Suzanne Collins</td>\n",
              "      <td>2008.0</td>\n",
              "      <td>The Hunger Games</td>\n",
              "      <td>...</td>\n",
              "      <td>4780653</td>\n",
              "      <td>4942365</td>\n",
              "      <td>155254</td>\n",
              "      <td>66715</td>\n",
              "      <td>127936</td>\n",
              "      <td>560092</td>\n",
              "      <td>1481305</td>\n",
              "      <td>2706317</td>\n",
              "      <td>https://images.gr-assets.com/books/1447303603m...</td>\n",
              "      <td>https://images.gr-assets.com/books/1447303603s...</td>\n",
              "    </tr>\n",
              "    <tr>\n",
              "      <th>1</th>\n",
              "      <td>2</td>\n",
              "      <td>3</td>\n",
              "      <td>3</td>\n",
              "      <td>4640799</td>\n",
              "      <td>491</td>\n",
              "      <td>439554934</td>\n",
              "      <td>9.780440e+12</td>\n",
              "      <td>J.K. Rowling, Mary GrandPré</td>\n",
              "      <td>1997.0</td>\n",
              "      <td>Harry Potter and the Philosopher's Stone</td>\n",
              "      <td>...</td>\n",
              "      <td>4602479</td>\n",
              "      <td>4800065</td>\n",
              "      <td>75867</td>\n",
              "      <td>75504</td>\n",
              "      <td>101676</td>\n",
              "      <td>455024</td>\n",
              "      <td>1156318</td>\n",
              "      <td>3011543</td>\n",
              "      <td>https://images.gr-assets.com/books/1474154022m...</td>\n",
              "      <td>https://images.gr-assets.com/books/1474154022s...</td>\n",
              "    </tr>\n",
              "    <tr>\n",
              "      <th>2</th>\n",
              "      <td>3</td>\n",
              "      <td>41865</td>\n",
              "      <td>41865</td>\n",
              "      <td>3212258</td>\n",
              "      <td>226</td>\n",
              "      <td>316015849</td>\n",
              "      <td>9.780316e+12</td>\n",
              "      <td>Stephenie Meyer</td>\n",
              "      <td>2005.0</td>\n",
              "      <td>Twilight</td>\n",
              "      <td>...</td>\n",
              "      <td>3866839</td>\n",
              "      <td>3916824</td>\n",
              "      <td>95009</td>\n",
              "      <td>456191</td>\n",
              "      <td>436802</td>\n",
              "      <td>793319</td>\n",
              "      <td>875073</td>\n",
              "      <td>1355439</td>\n",
              "      <td>https://images.gr-assets.com/books/1361039443m...</td>\n",
              "      <td>https://images.gr-assets.com/books/1361039443s...</td>\n",
              "    </tr>\n",
              "    <tr>\n",
              "      <th>3</th>\n",
              "      <td>4</td>\n",
              "      <td>2657</td>\n",
              "      <td>2657</td>\n",
              "      <td>3275794</td>\n",
              "      <td>487</td>\n",
              "      <td>61120081</td>\n",
              "      <td>9.780061e+12</td>\n",
              "      <td>Harper Lee</td>\n",
              "      <td>1960.0</td>\n",
              "      <td>To Kill a Mockingbird</td>\n",
              "      <td>...</td>\n",
              "      <td>3198671</td>\n",
              "      <td>3340896</td>\n",
              "      <td>72586</td>\n",
              "      <td>60427</td>\n",
              "      <td>117415</td>\n",
              "      <td>446835</td>\n",
              "      <td>1001952</td>\n",
              "      <td>1714267</td>\n",
              "      <td>https://images.gr-assets.com/books/1361975680m...</td>\n",
              "      <td>https://images.gr-assets.com/books/1361975680s...</td>\n",
              "    </tr>\n",
              "    <tr>\n",
              "      <th>4</th>\n",
              "      <td>5</td>\n",
              "      <td>4671</td>\n",
              "      <td>4671</td>\n",
              "      <td>245494</td>\n",
              "      <td>1356</td>\n",
              "      <td>743273567</td>\n",
              "      <td>9.780743e+12</td>\n",
              "      <td>F. Scott Fitzgerald</td>\n",
              "      <td>1925.0</td>\n",
              "      <td>The Great Gatsby</td>\n",
              "      <td>...</td>\n",
              "      <td>2683664</td>\n",
              "      <td>2773745</td>\n",
              "      <td>51992</td>\n",
              "      <td>86236</td>\n",
              "      <td>197621</td>\n",
              "      <td>606158</td>\n",
              "      <td>936012</td>\n",
              "      <td>947718</td>\n",
              "      <td>https://images.gr-assets.com/books/1490528560m...</td>\n",
              "      <td>https://images.gr-assets.com/books/1490528560s...</td>\n",
              "    </tr>\n",
              "  </tbody>\n",
              "</table>\n",
              "<p>5 rows × 23 columns</p>\n",
              "</div>"
            ],
            "text/plain": [
              "   book_id  goodreads_book_id  best_book_id  work_id  books_count       isbn  \\\n",
              "0        1            2767052       2767052  2792775          272  439023483   \n",
              "1        2                  3             3  4640799          491  439554934   \n",
              "2        3              41865         41865  3212258          226  316015849   \n",
              "3        4               2657          2657  3275794          487   61120081   \n",
              "4        5               4671          4671   245494         1356  743273567   \n",
              "\n",
              "         isbn13                      authors  original_publication_year  \\\n",
              "0  9.780439e+12              Suzanne Collins                     2008.0   \n",
              "1  9.780440e+12  J.K. Rowling, Mary GrandPré                     1997.0   \n",
              "2  9.780316e+12              Stephenie Meyer                     2005.0   \n",
              "3  9.780061e+12                   Harper Lee                     1960.0   \n",
              "4  9.780743e+12          F. Scott Fitzgerald                     1925.0   \n",
              "\n",
              "                             original_title  ... ratings_count  \\\n",
              "0                          The Hunger Games  ...       4780653   \n",
              "1  Harry Potter and the Philosopher's Stone  ...       4602479   \n",
              "2                                  Twilight  ...       3866839   \n",
              "3                     To Kill a Mockingbird  ...       3198671   \n",
              "4                          The Great Gatsby  ...       2683664   \n",
              "\n",
              "  work_ratings_count  work_text_reviews_count  ratings_1  ratings_2  \\\n",
              "0            4942365                   155254      66715     127936   \n",
              "1            4800065                    75867      75504     101676   \n",
              "2            3916824                    95009     456191     436802   \n",
              "3            3340896                    72586      60427     117415   \n",
              "4            2773745                    51992      86236     197621   \n",
              "\n",
              "   ratings_3  ratings_4  ratings_5  \\\n",
              "0     560092    1481305    2706317   \n",
              "1     455024    1156318    3011543   \n",
              "2     793319     875073    1355439   \n",
              "3     446835    1001952    1714267   \n",
              "4     606158     936012     947718   \n",
              "\n",
              "                                           image_url  \\\n",
              "0  https://images.gr-assets.com/books/1447303603m...   \n",
              "1  https://images.gr-assets.com/books/1474154022m...   \n",
              "2  https://images.gr-assets.com/books/1361039443m...   \n",
              "3  https://images.gr-assets.com/books/1361975680m...   \n",
              "4  https://images.gr-assets.com/books/1490528560m...   \n",
              "\n",
              "                                     small_image_url  \n",
              "0  https://images.gr-assets.com/books/1447303603s...  \n",
              "1  https://images.gr-assets.com/books/1474154022s...  \n",
              "2  https://images.gr-assets.com/books/1361039443s...  \n",
              "3  https://images.gr-assets.com/books/1361975680s...  \n",
              "4  https://images.gr-assets.com/books/1490528560s...  \n",
              "\n",
              "[5 rows x 23 columns]"
            ]
          },
          "metadata": {
            "tags": []
          },
          "execution_count": 17
        }
      ]
    },
    {
      "cell_type": "code",
      "metadata": {
        "_uuid": "e3e0b59db71e119646cc4adc6b6f00913519d25c",
        "id": "NKIs7nTa-l-c",
        "outputId": "e0ce0cb8-5f59-46ee-bf75-b4a8551f2ea9"
      },
      "source": [
        "g = ratings.groupby('book_id')['rating'].count()\n",
        "top_books = g.sort_values(ascending=False).index.values[:1000]\n",
        "top_books = top_books.astype(str)\n",
        "top_books[:10]"
      ],
      "execution_count": null,
      "outputs": [
        {
          "output_type": "execute_result",
          "data": {
            "text/plain": [
              "array(['1', '2', '4', '3', '5', '17', '20', '18', '23', '7'], dtype='<U21')"
            ]
          },
          "metadata": {
            "tags": []
          },
          "execution_count": 18
        }
      ]
    },
    {
      "cell_type": "code",
      "metadata": {
        "_uuid": "594443ad53a3b2eca20f6dacd0df4e22ca9243d5",
        "id": "9ZRv5Vip-l-d",
        "outputId": "e0bb47a0-8226-4c48-e740-e6e3acca584d"
      },
      "source": [
        "top_books_with_name = []\n",
        "for book in top_books:\n",
        "    top_books_with_name.append(books[(books['book_id']==int(book))]['title'].iloc[0])\n",
        "top_books_with_name = np.array(top_books_with_name)\n",
        "top_books_with_name"
      ],
      "execution_count": null,
      "outputs": [
        {
          "output_type": "execute_result",
          "data": {
            "text/plain": [
              "array(['The Hunger Games (The Hunger Games, #1)', \"Harry Potter and the Sorcerer's Stone (Harry Potter, #1)\",\n",
              "       'To Kill a Mockingbird', 'Twilight (Twilight, #1)', ..., 'Lover Eternal (Black Dagger Brotherhood, #2)',\n",
              "       'The Sirens of Titan', 'Cryptonomicon', 'Animal, Vegetable, Miracle: A Year of Food Life'], dtype='<U151')"
            ]
          },
          "metadata": {
            "tags": []
          },
          "execution_count": 20
        }
      ]
    },
    {
      "cell_type": "markdown",
      "metadata": {
        "_uuid": "e20eefd2a5ac29a8145c3c4f298a3b3222066f94",
        "id": "1720aHXN-l-d"
      },
      "source": [
        "## Book Bias"
      ]
    },
    {
      "cell_type": "markdown",
      "metadata": {
        "id": "sWhgYiiJWJqM"
      },
      "source": [
        "Теперь мы можем извлечь склонности к лучшим книгам, а также средний рейтинг лучших книг и вывести результат. Благодаря этому мы можем получать информацию о книгах, которые обычно оцениваются как низкие или высокие, независимо от того, какой пользователь их оценивает."
      ]
    },
    {
      "cell_type": "code",
      "metadata": {
        "_uuid": "e9ef5dbcf4f2f7b697ee20f366d89b46d43316d3",
        "id": "mvx5tjrx-l-d",
        "outputId": "db7b3a7e-c22c-4717-dc4f-583e435851a3"
      },
      "source": [
        "learn.model"
      ],
      "execution_count": null,
      "outputs": [
        {
          "output_type": "execute_result",
          "data": {
            "text/plain": [
              "EmbeddingDotBias(\n",
              "  (u_weight): Embedding(53425, 40)\n",
              "  (i_weight): Embedding(10001, 40)\n",
              "  (u_bias): Embedding(53425, 1)\n",
              "  (i_bias): Embedding(10001, 1)\n",
              ")"
            ]
          },
          "metadata": {
            "tags": []
          },
          "execution_count": 21
        }
      ]
    },
    {
      "cell_type": "code",
      "metadata": {
        "_uuid": "4234db58aa944ca8bfbe3d3f7cd7c3caa108866c",
        "id": "iWLlCQaG-l-e"
      },
      "source": [
        "book_bias = learn.bias(top_books, is_item=True)"
      ],
      "execution_count": null,
      "outputs": []
    },
    {
      "cell_type": "code",
      "metadata": {
        "_uuid": "d3243def55595325e969aee176cda3b47ab45a5c",
        "id": "aCSbKvBo-l-e"
      },
      "source": [
        "mean_ratings = ratings.groupby('book_id')['rating'].mean()\n",
        "book_ratings = [(b, top_books_with_name[i], mean_ratings.loc[int(tb)]) for i, (tb, b) in enumerate(zip(top_books, book_bias))]"
      ],
      "execution_count": null,
      "outputs": []
    },
    {
      "cell_type": "code",
      "metadata": {
        "_uuid": "b0951ca49a0ac1f788b10bb1460f30e85bf576c8",
        "id": "lhNiLR1i-l-e"
      },
      "source": [
        "item0 = lambda o:o[0]"
      ],
      "execution_count": null,
      "outputs": []
    },
    {
      "cell_type": "code",
      "metadata": {
        "_uuid": "3cf1729724390881838de407ed210abcb73c6cf9",
        "id": "vUNoFAu7-l-e",
        "outputId": "6d6b896a-df91-40d2-fdce-6754bc9d93de"
      },
      "source": [
        "sorted(book_ratings, key=item0)[:15]"
      ],
      "execution_count": null,
      "outputs": [
        {
          "output_type": "execute_result",
          "data": {
            "text/plain": [
              "[(tensor(-0.1689),\n",
              "  'Fifty Shades of Grey (Fifty Shades, #1)',\n",
              "  3.0924391506991196),\n",
              " (tensor(-0.1190), 'Twilight (Twilight, #1)', 3.214340558738409),\n",
              " (tensor(-0.1163), 'New Moon (Twilight, #2)', 3.217359967051071),\n",
              " (tensor(-0.0487), 'Breaking Dawn (Twilight, #4)', 3.354924202268631),\n",
              " (tensor(-0.0296), 'Eclipse (Twilight, #3)', 3.3775467775467773),\n",
              " (tensor(-0.0202), 'The Nanny Diaries (Nanny, #1)', 3.2395676973881717),\n",
              " (tensor(-0.0199), 'Eat, Pray, Love', 3.260114140773621),\n",
              " (tensor(0.0003), 'The Scarlet Letter', 3.3282900743445936),\n",
              " (tensor(0.0006), 'The Secret (The Secret, #1)', 3.1555555555555554),\n",
              " (tensor(0.0080), 'The Red Badge of Courage', 3.1833962264150943),\n",
              " (tensor(0.0117), 'Digital Fortress', 3.332096015837664),\n",
              " (tensor(0.0173),\n",
              "  'The Short Second Life of Bree Tanner: An Eclipse Novella (Twilight, #3.5)',\n",
              "  3.3007730147575542),\n",
              " (tensor(0.0177), 'Fifty Shades Freed (Fifty Shades, #3)', 3.44468339307049),\n",
              " (tensor(0.0189), 'Evermore (The Immortals, #1)', 3.364670658682635),\n",
              " (tensor(0.0211),\n",
              "  \"The Girls' Guide to Hunting and Fishing\",\n",
              "  3.268808777429467)]"
            ]
          },
          "metadata": {
            "tags": []
          },
          "execution_count": 25
        }
      ]
    },
    {
      "cell_type": "code",
      "metadata": {
        "_uuid": "a6aa3295e792bde8951243425e9a4de83f1eeef8",
        "id": "cNgpFhm1-l-f",
        "outputId": "8b3a6c29-253f-4de0-bfa4-a75b475509f7"
      },
      "source": [
        "sorted(book_ratings, key=item0, reverse=True)[:15]"
      ],
      "execution_count": null,
      "outputs": [
        {
          "output_type": "execute_result",
          "data": {
            "text/plain": [
              "[(tensor(0.9103),\n",
              "  'Harry Potter and the Deathly Hallows (Harry Potter, #7)',\n",
              "  4.525940930475692),\n",
              " (tensor(0.8232),\n",
              "  'Harry Potter and the Half-Blood Prince (Harry Potter, #6)',\n",
              "  4.443339301107353),\n",
              " (tensor(0.8172),\n",
              "  'Harry Potter and the Goblet of Fire (Harry Potter, #4)',\n",
              "  4.430780132706307),\n",
              " (tensor(0.7909),\n",
              "  'Harry Potter and the Prisoner of Azkaban (Harry Potter, #3)',\n",
              "  4.418732261116367),\n",
              " (tensor(0.7544), 'The Help', 4.382886776145203),\n",
              " (tensor(0.7382), 'The Nightingale', 4.467266775777414),\n",
              " (tensor(0.7329), 'To Kill a Mockingbird', 4.3293692372171),\n",
              " (tensor(0.7193),\n",
              "  'A Storm of Swords (A Song of Ice and Fire, #3)',\n",
              "  4.420554753888087),\n",
              " (tensor(0.7182),\n",
              "  \"Harry Potter and the Sorcerer's Stone (Harry Potter, #1)\",\n",
              "  4.351350114416476),\n",
              " (tensor(0.7140),\n",
              "  'Unbroken: A World War II Story of Survival, Resilience, and Redemption',\n",
              "  4.439370766877867),\n",
              " (tensor(0.7133),\n",
              "  'Harry Potter and the Order of the Phoenix (Harry Potter, #5)',\n",
              "  4.358697076943243),\n",
              " (tensor(0.7115), 'The Book Thief', 4.307004040792765),\n",
              " (tensor(0.6987),\n",
              "  'The Return of the King (The Lord of the Rings, #3)',\n",
              "  4.424735428842205),\n",
              " (tensor(0.6938),\n",
              "  'The Name of the Wind (The Kingkiller Chronicle, #1)',\n",
              "  4.499746707193515),\n",
              " (tensor(0.6895),\n",
              "  'The Hunger Games (The Hunger Games, #1)',\n",
              "  4.2797070946242215)]"
            ]
          },
          "metadata": {
            "tags": []
          },
          "execution_count": 26
        }
      ]
    },
    {
      "cell_type": "code",
      "metadata": {
        "_uuid": "5a3208a2094cac02977343b799f582856f8e8820",
        "id": "aOgDhxNp-l-f",
        "outputId": "0b031637-d376-4530-f094-74cad442c6c5"
      },
      "source": [
        "book_w = learn.weight(top_books, is_item=True)\n",
        "book_w.shape"
      ],
      "execution_count": null,
      "outputs": [
        {
          "output_type": "execute_result",
          "data": {
            "text/plain": [
              "torch.Size([1000, 40])"
            ]
          },
          "metadata": {
            "tags": []
          },
          "execution_count": 27
        }
      ]
    },
    {
      "cell_type": "code",
      "metadata": {
        "_uuid": "9f343ade1d65a1b821522d2cabce8e8b85206ee6",
        "id": "Rl6Tr3RC-l-f",
        "outputId": "200f0845-981c-40f1-8dd3-9339da3b96eb"
      },
      "source": [
        "book_pca = book_w.pca(3)\n",
        "book_pca.shape"
      ],
      "execution_count": null,
      "outputs": [
        {
          "output_type": "execute_result",
          "data": {
            "text/plain": [
              "torch.Size([1000, 3])"
            ]
          },
          "metadata": {
            "tags": []
          },
          "execution_count": 28
        }
      ]
    },
    {
      "cell_type": "code",
      "metadata": {
        "_uuid": "b89247d0ae497cc345177d5f749b954c034e8dde",
        "id": "vywMLbPY-l-g"
      },
      "source": [
        "fac0,fac1,fac2 = book_pca.t()\n",
        "book_comp = [(f, i) for f,i in zip(fac0, top_books_with_name)]"
      ],
      "execution_count": null,
      "outputs": []
    },
    {
      "cell_type": "code",
      "metadata": {
        "_uuid": "b1e55b2c28b058d51b4ddd72b85a0e06422d26a4",
        "id": "JOYITDuU-l-g",
        "outputId": "33b37c90-c36a-43e1-9b74-45ca27fbc321"
      },
      "source": [
        "sorted(book_comp, key=itemgetter(0), reverse=True)[:10]"
      ],
      "execution_count": null,
      "outputs": [
        {
          "output_type": "execute_result",
          "data": {
            "text/plain": [
              "[(tensor(1.4788), 'The Dinner'),\n",
              " (tensor(1.4301), 'Fifty Shades of Grey (Fifty Shades, #1)'),\n",
              " (tensor(1.4247), 'Twilight (Twilight, #1)'),\n",
              " (tensor(1.3591), 'Go Set a Watchman'),\n",
              " (tensor(1.3236), 'The Secret (The Secret, #1)'),\n",
              " (tensor(1.3030),\n",
              "  'The Short Second Life of Bree Tanner: An Eclipse Novella (Twilight, #3.5)'),\n",
              " (tensor(1.2869), 'The Tenth Circle'),\n",
              " (tensor(1.2257), 'Reached (Matched, #3)'),\n",
              " (tensor(1.2210), \"The Pilot's Wife\"),\n",
              " (tensor(1.2094), 'Luckiest Girl Alive')]"
            ]
          },
          "metadata": {
            "tags": []
          },
          "execution_count": 30
        }
      ]
    },
    {
      "cell_type": "code",
      "metadata": {
        "_uuid": "9883d22bcc158a14d08ac06c7630b2a232f3d3d5",
        "id": "NFD_iXtQ-l-g",
        "outputId": "092a5d64-6b48-4138-ecc7-6ae25f52f114"
      },
      "source": [
        "sorted(book_comp, key=itemgetter(0))[:10]"
      ],
      "execution_count": null,
      "outputs": [
        {
          "output_type": "execute_result",
          "data": {
            "text/plain": [
              "[(tensor(-1.7420), 'The Return of the King (The Lord of the Rings, #3)'),\n",
              " (tensor(-1.6044), 'The Lord of the Rings (The Lord of the Rings, #1-3)'),\n",
              " (tensor(-1.6003), 'The Two Towers (The Lord of the Rings, #2)'),\n",
              " (tensor(-1.5340), 'Harry Potter and the Deathly Hallows (Harry Potter, #7)'),\n",
              " (tensor(-1.5058), 'The Fellowship of the Ring (The Lord of the Rings, #1)'),\n",
              " (tensor(-1.4882), 'Where the Sidewalk Ends'),\n",
              " (tensor(-1.4786), 'A Storm of Swords (A Song of Ice and Fire, #3)'),\n",
              " (tensor(-1.4444), 'The Name of the Wind (The Kingkiller Chronicle, #1)'),\n",
              " (tensor(-1.4062), 'To Kill a Mockingbird'),\n",
              " (tensor(-1.3408), 'The Giving Tree')]"
            ]
          },
          "metadata": {
            "tags": []
          },
          "execution_count": 31
        }
      ]
    },
    {
      "cell_type": "code",
      "metadata": {
        "_uuid": "10e93a9a0c3b79f693038fc68ac694d9f45ca04e",
        "id": "417_7tf--l-g"
      },
      "source": [
        "book_comp = [(f, i) for f,i in zip(fac1, top_books_with_name)]"
      ],
      "execution_count": null,
      "outputs": []
    },
    {
      "cell_type": "code",
      "metadata": {
        "_uuid": "c9e8f7c5e0309f40d5273072f54980fef1723b2d",
        "id": "8h50HApF-l-h",
        "outputId": "96ba59c6-f1cb-4798-cc8d-31411f4b4684"
      },
      "source": [
        "sorted(book_comp, key=itemgetter(0), reverse=True)[:10]"
      ],
      "execution_count": null,
      "outputs": [
        {
          "output_type": "execute_result",
          "data": {
            "text/plain": [
              "[(tensor(1.8752), 'Divergent (Divergent, #1)'),\n",
              " (tensor(1.8483),\n",
              "  'Harry Potter and the Chamber of Secrets (Harry Potter, #2)'),\n",
              " (tensor(1.8426), 'Harry Potter and the Deathly Hallows (Harry Potter, #7)'),\n",
              " (tensor(1.8326), 'The Hunger Games (The Hunger Games, #1)'),\n",
              " (tensor(1.8048), 'Catching Fire (The Hunger Games, #2)'),\n",
              " (tensor(1.7736), 'Harry Potter and the Goblet of Fire (Harry Potter, #4)'),\n",
              " (tensor(1.7620), 'Harry Potter and the Half-Blood Prince (Harry Potter, #6)'),\n",
              " (tensor(1.7466),\n",
              "  'Harry Potter and the Prisoner of Azkaban (Harry Potter, #3)'),\n",
              " (tensor(1.7377), \"Harry Potter and the Sorcerer's Stone (Harry Potter, #1)\"),\n",
              " (tensor(1.7170),\n",
              "  'Harry Potter and the Order of the Phoenix (Harry Potter, #5)')]"
            ]
          },
          "metadata": {
            "tags": []
          },
          "execution_count": 33
        }
      ]
    },
    {
      "cell_type": "code",
      "metadata": {
        "_uuid": "ad5967179bccdf08c4ea7655404cab93908b4e62",
        "id": "z90xkNgJ-l-i",
        "outputId": "d2dbbed6-66ba-405b-bdfe-27e9a947e0f4"
      },
      "source": [
        "sorted(book_comp, key=itemgetter(0))[:10]"
      ],
      "execution_count": null,
      "outputs": [
        {
          "output_type": "execute_result",
          "data": {
            "text/plain": [
              "[(tensor(-1.3292), 'Animal Farm'),\n",
              " (tensor(-1.2168), '1984'),\n",
              " (tensor(-1.1647), 'Lord of the Flies'),\n",
              " (tensor(-1.0308), 'Heart of Darkness'),\n",
              " (tensor(-0.9961), 'The Metamorphosis'),\n",
              " (tensor(-0.9312), 'Moby-Dick or, The Whale'),\n",
              " (tensor(-0.9209), 'Hamlet'),\n",
              " (tensor(-0.9109), 'Macbeth'),\n",
              " (tensor(-0.8967), 'The Catcher in the Rye'),\n",
              " (tensor(-0.8962), 'The Grapes of Wrath')]"
            ]
          },
          "metadata": {
            "tags": []
          },
          "execution_count": 34
        }
      ]
    },
    {
      "cell_type": "markdown",
      "metadata": {
        "id": "OCJr4irDWcdQ"
      },
      "source": [
        "Мы также можем визуализировать две основных компоненты, используя графическую библиотеку, например, Matplotlib."
      ]
    },
    {
      "cell_type": "code",
      "metadata": {
        "_uuid": "403b05a2269a82b7aad8d1dd2d4ed4a188b4667a",
        "id": "iw2_-Brd-l-j",
        "outputId": "13c94789-c68c-4e77-ac75-4422e1d12539"
      },
      "source": [
        "idxs = np.random.choice(len(top_books_with_name), 50, replace=False)\n",
        "idxs = list(range(50))\n",
        "X = fac0[idxs]\n",
        "Y = fac2[idxs]\n",
        "plt.figure(figsize=(15,15))\n",
        "plt.scatter(X, Y)\n",
        "for i, x, y in zip(top_books_with_name[idxs], X, Y):\n",
        "    plt.text(x,y,i, color=np.random.rand(3)*0.7, fontsize=11)\n",
        "plt.show()"
      ],
      "execution_count": null,
      "outputs": [
        {
          "output_type": "display_data",
          "data": {
            "image/png": "[encoded data removed]",
            "text/plain": [
              "<Figure size 1080x1080 with 1 Axes>"
            ]
          },
          "metadata": {
            "tags": [],
            "needs_background": "light"
          }
        }
      ]
    },
    {
      "cell_type": "markdown",
      "metadata": {
        "id": "jfUDEpzLWiz0"
      },
      "source": [
        "Рекомендательные системы стремятся предсказать рейтинг или предпочтение, которое пользователь будет отдавать элементу, учитывая его старые оценки или предпочтения.\r\n",
        "\r\n",
        "Библиотека глубокого обучения FastAI предоставляет нам функциональные возможности, позволяющие легко загружать наши данные и создавать модели коллаборативной фильтрации.\r\n"
      ]
    }
  ]
}